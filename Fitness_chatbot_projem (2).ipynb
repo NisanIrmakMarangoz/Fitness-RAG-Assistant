{
  "nbformat": 4,
  "nbformat_minor": 0,
  "metadata": {
    "colab": {
      "provenance": []
    },
    "kernelspec": {
      "name": "python3",
      "display_name": "Python 3"
    },
    "language_info": {
      "name": "python"
    }
  },
  "cells": [
    {
      "cell_type": "code",
      "source": [
        "# HÜCRE 1: En güncel ve uyumlu kütüphaneleri kurma\n",
        "!pip install -U langchain langchain-core langchain-community langchain-google-genai -q\n",
        "!pip install chromadb sentence-transformers langchain-text-splitters -q\n",
        "print(\"Tüm kütüphaneler güncel ve uyumlu bir şekilde kuruldu.\")\n",
        "\n",
        "# Python Path'i düzeltme (önceki denemelerdeki kritik düzeltme)\n",
        "import sys\n",
        "import site\n",
        "\n",
        "forced_path = '/usr/local/lib/python3.10/dist-packages'\n",
        "if forced_path not in sys.path:\n",
        "    sys.path.append(forced_path)\n",
        "    print(f\"Python arama yolu düzeltildi: {forced_path}\")\n",
        "\n",
        "print(\"Kurulum ve Python arama yolu düzeltmesi tamamlandı. HÜCRE 2'ye geçin.\")"
      ],
      "metadata": {
        "colab": {
          "base_uri": "https://localhost:8080/"
        },
        "id": "7-rGEHAyinIY",
        "outputId": "35a474c4-b71f-4741-8aa4-49deec8c070c"
      },
      "execution_count": 1,
      "outputs": [
        {
          "output_type": "stream",
          "name": "stdout",
          "text": [
            "Tüm kütüphaneler güncel ve uyumlu bir şekilde kuruldu.\n",
            "Python arama yolu düzeltildi: /usr/local/lib/python3.10/dist-packages\n",
            "Kurulum ve Python arama yolu düzeltmesi tamamlandı. HÜCRE 2'ye geçin.\n"
          ]
        }
      ]
    },
    {
      "cell_type": "code",
      "source": [
        "# HÜCRE 2: API Anahtarını Ayarlama\n",
        "from google.colab import userdata\n",
        "import os\n",
        "\n",
        "# NOT: Lütfen API anahtarınızın Colab Secrets'ta 'GEMINI_API_KEY' adıyla kayıtlı olduğundan emin olun.\n",
        "GEMINI_API_KEY = userdata.get('GEMINI_API_KEY')\n",
        "os.environ['GEMINI_API_KEY'] = GEMINI_API_KEY\n",
        "\n",
        "print(\"API Anahtarı başarıyla ayarlandı.\")"
      ],
      "metadata": {
        "colab": {
          "base_uri": "https://localhost:8080/"
        },
        "id": "VA8YG7fLgDU4",
        "outputId": "bf8a6be3-c471-4ed0-e619-6b9c861bfad2"
      },
      "execution_count": 2,
      "outputs": [
        {
          "output_type": "stream",
          "name": "stdout",
          "text": [
            "API Anahtarı başarıyla ayarlandı.\n"
          ]
        }
      ]
    },
    {
      "cell_type": "code",
      "source": [
        "# HÜCRE 3: Veri Setini Oluşturma\n",
        "from langchain_google_genai import ChatGoogleGenerativeAI\n",
        "from google.colab import userdata\n",
        "\n",
        "GEMINI_API_KEY = userdata.get('GEMINI_API_KEY')\n",
        "llm = ChatGoogleGenerativeAI(model=\"gemini-2.5-flash\", temperature=0.3, api_key=GEMINI_API_KEY)\n",
        "\n",
        "prompt_text = \"\"\"\n",
        "Fitness ve vücut geliştirme üzerine kapsamlı bir veri seti oluştur.\n",
        "Aşağıdaki her egzersiz için: Bench Press, Deadlift, Squat, Overhead Press, Barbell Row, Pull-up, Lunge.\n",
        "Her egzersiz için: Adı, Nasıl Yapılır, Temel Kas Grupları, Önemli İpucu bilgilerini içermeli.\n",
        "Cevabın sadece düz metin olsun.\n",
        "\"\"\"\n",
        "\n",
        "print(\"Veri seti oluşturuluyor...\")\n",
        "response = llm.invoke(prompt_text)\n",
        "data = response.content\n",
        "\n",
        "with open(\"egzersiz_veri.txt\", \"w\", encoding=\"utf-8\") as f:\n",
        "    f.write(data)\n",
        "\n",
        "print(\"Veri seti (egzersiz_veri.txt) başarıyla oluşturuldu ve kaydedildi.\")"
      ],
      "metadata": {
        "colab": {
          "base_uri": "https://localhost:8080/",
          "height": 375
        },
        "id": "fTJpAd0ygGho",
        "outputId": "928be14f-dcbf-4427-b62d-414ee1339b9c"
      },
      "execution_count": 3,
      "outputs": [
        {
          "output_type": "error",
          "ename": "KeyboardInterrupt",
          "evalue": "",
          "traceback": [
            "\u001b[0;31m---------------------------------------------------------------------------\u001b[0m",
            "\u001b[0;31mKeyboardInterrupt\u001b[0m                         Traceback (most recent call last)",
            "\u001b[0;32m/tmp/ipython-input-374490827.py\u001b[0m in \u001b[0;36m<cell line: 0>\u001b[0;34m()\u001b[0m\n\u001b[1;32m      1\u001b[0m \u001b[0;31m# HÜCRE 3: Veri Setini Oluşturma\u001b[0m\u001b[0;34m\u001b[0m\u001b[0;34m\u001b[0m\u001b[0m\n\u001b[0;32m----> 2\u001b[0;31m \u001b[0;32mfrom\u001b[0m \u001b[0mlangchain_google_genai\u001b[0m \u001b[0;32mimport\u001b[0m \u001b[0mChatGoogleGenerativeAI\u001b[0m\u001b[0;34m\u001b[0m\u001b[0;34m\u001b[0m\u001b[0m\n\u001b[0m\u001b[1;32m      3\u001b[0m \u001b[0;32mfrom\u001b[0m \u001b[0mgoogle\u001b[0m\u001b[0;34m.\u001b[0m\u001b[0mcolab\u001b[0m \u001b[0;32mimport\u001b[0m \u001b[0muserdata\u001b[0m\u001b[0;34m\u001b[0m\u001b[0;34m\u001b[0m\u001b[0m\n\u001b[1;32m      4\u001b[0m \u001b[0;34m\u001b[0m\u001b[0m\n\u001b[1;32m      5\u001b[0m \u001b[0mGEMINI_API_KEY\u001b[0m \u001b[0;34m=\u001b[0m \u001b[0muserdata\u001b[0m\u001b[0;34m.\u001b[0m\u001b[0mget\u001b[0m\u001b[0;34m(\u001b[0m\u001b[0;34m'GEMINI_API_KEY'\u001b[0m\u001b[0;34m)\u001b[0m\u001b[0;34m\u001b[0m\u001b[0;34m\u001b[0m\u001b[0m\n",
            "\u001b[0;32m/usr/local/lib/python3.12/dist-packages/langchain_google_genai/__init__.py\u001b[0m in \u001b[0;36m<module>\u001b[0;34m\u001b[0m\n\u001b[1;32m     59\u001b[0m \u001b[0;34m\u001b[0m\u001b[0m\n\u001b[1;32m     60\u001b[0m \u001b[0;32mfrom\u001b[0m \u001b[0mlangchain_google_genai\u001b[0m\u001b[0;34m.\u001b[0m\u001b[0m_enums\u001b[0m \u001b[0;32mimport\u001b[0m \u001b[0mHarmBlockThreshold\u001b[0m\u001b[0;34m,\u001b[0m \u001b[0mHarmCategory\u001b[0m\u001b[0;34m,\u001b[0m \u001b[0mModality\u001b[0m\u001b[0;34m\u001b[0m\u001b[0;34m\u001b[0m\u001b[0m\n\u001b[0;32m---> 61\u001b[0;31m \u001b[0;32mfrom\u001b[0m \u001b[0mlangchain_google_genai\u001b[0m\u001b[0;34m.\u001b[0m\u001b[0mchat_models\u001b[0m \u001b[0;32mimport\u001b[0m \u001b[0mChatGoogleGenerativeAI\u001b[0m\u001b[0;34m\u001b[0m\u001b[0;34m\u001b[0m\u001b[0m\n\u001b[0m\u001b[1;32m     62\u001b[0m \u001b[0;32mfrom\u001b[0m \u001b[0mlangchain_google_genai\u001b[0m\u001b[0;34m.\u001b[0m\u001b[0membeddings\u001b[0m \u001b[0;32mimport\u001b[0m \u001b[0mGoogleGenerativeAIEmbeddings\u001b[0m\u001b[0;34m\u001b[0m\u001b[0;34m\u001b[0m\u001b[0m\n\u001b[1;32m     63\u001b[0m from langchain_google_genai.genai_aqa import (\n",
            "\u001b[0;32m/usr/local/lib/python3.12/dist-packages/langchain_google_genai/chat_models.py\u001b[0m in \u001b[0;36m<module>\u001b[0;34m\u001b[0m\n\u001b[1;32m     60\u001b[0m )\n\u001b[1;32m     61\u001b[0m \u001b[0;32mfrom\u001b[0m \u001b[0mgoogle\u001b[0m\u001b[0;34m.\u001b[0m\u001b[0mprotobuf\u001b[0m\u001b[0;34m.\u001b[0m\u001b[0mjson_format\u001b[0m \u001b[0;32mimport\u001b[0m \u001b[0mMessageToDict\u001b[0m\u001b[0;34m\u001b[0m\u001b[0;34m\u001b[0m\u001b[0m\n\u001b[0;32m---> 62\u001b[0;31m from langchain_core.callbacks.manager import (\n\u001b[0m\u001b[1;32m     63\u001b[0m     \u001b[0mAsyncCallbackManagerForLLMRun\u001b[0m\u001b[0;34m,\u001b[0m\u001b[0;34m\u001b[0m\u001b[0;34m\u001b[0m\u001b[0m\n\u001b[1;32m     64\u001b[0m     \u001b[0mCallbackManagerForLLMRun\u001b[0m\u001b[0;34m,\u001b[0m\u001b[0;34m\u001b[0m\u001b[0;34m\u001b[0m\u001b[0m\n",
            "\u001b[0;32m/usr/local/lib/python3.12/dist-packages/langchain_core/callbacks/manager.py\u001b[0m in \u001b[0;36m<module>\u001b[0;34m\u001b[0m\n\u001b[1;32m     16\u001b[0m \u001b[0;32mfrom\u001b[0m \u001b[0muuid\u001b[0m \u001b[0;32mimport\u001b[0m \u001b[0mUUID\u001b[0m\u001b[0;34m\u001b[0m\u001b[0;34m\u001b[0m\u001b[0m\n\u001b[1;32m     17\u001b[0m \u001b[0;34m\u001b[0m\u001b[0m\n\u001b[0;32m---> 18\u001b[0;31m \u001b[0;32mfrom\u001b[0m \u001b[0mlangsmith\u001b[0m\u001b[0;34m.\u001b[0m\u001b[0mrun_helpers\u001b[0m \u001b[0;32mimport\u001b[0m \u001b[0mget_tracing_context\u001b[0m\u001b[0;34m\u001b[0m\u001b[0;34m\u001b[0m\u001b[0m\n\u001b[0m\u001b[1;32m     19\u001b[0m \u001b[0;32mfrom\u001b[0m \u001b[0mtyping_extensions\u001b[0m \u001b[0;32mimport\u001b[0m \u001b[0mSelf\u001b[0m\u001b[0;34m,\u001b[0m \u001b[0moverride\u001b[0m\u001b[0;34m\u001b[0m\u001b[0;34m\u001b[0m\u001b[0m\n\u001b[1;32m     20\u001b[0m \u001b[0;34m\u001b[0m\u001b[0m\n",
            "\u001b[0;32m/usr/local/lib/python3.12/dist-packages/langsmith/run_helpers.py\u001b[0m in \u001b[0;36m<module>\u001b[0;34m\u001b[0m\n\u001b[1;32m     43\u001b[0m \u001b[0;34m\u001b[0m\u001b[0m\n\u001b[1;32m     44\u001b[0m \u001b[0;32mimport\u001b[0m \u001b[0mlangsmith\u001b[0m\u001b[0;34m.\u001b[0m\u001b[0m_internal\u001b[0m\u001b[0;34m.\u001b[0m\u001b[0m_context\u001b[0m \u001b[0;32mas\u001b[0m \u001b[0m_context\u001b[0m\u001b[0;34m\u001b[0m\u001b[0;34m\u001b[0m\u001b[0m\n\u001b[0;32m---> 45\u001b[0;31m \u001b[0;32mfrom\u001b[0m \u001b[0mlangsmith\u001b[0m \u001b[0;32mimport\u001b[0m \u001b[0mclient\u001b[0m \u001b[0;32mas\u001b[0m \u001b[0mls_client\u001b[0m\u001b[0;34m\u001b[0m\u001b[0;34m\u001b[0m\u001b[0m\n\u001b[0m\u001b[1;32m     46\u001b[0m \u001b[0;32mfrom\u001b[0m \u001b[0mlangsmith\u001b[0m \u001b[0;32mimport\u001b[0m \u001b[0mrun_trees\u001b[0m\u001b[0;34m,\u001b[0m \u001b[0mschemas\u001b[0m\u001b[0;34m,\u001b[0m \u001b[0mutils\u001b[0m\u001b[0;34m\u001b[0m\u001b[0;34m\u001b[0m\u001b[0m\n\u001b[1;32m     47\u001b[0m \u001b[0;32mfrom\u001b[0m \u001b[0mlangsmith\u001b[0m\u001b[0;34m.\u001b[0m\u001b[0m_internal\u001b[0m \u001b[0;32mimport\u001b[0m \u001b[0m_aiter\u001b[0m \u001b[0;32mas\u001b[0m \u001b[0maitertools\u001b[0m\u001b[0;34m\u001b[0m\u001b[0;34m\u001b[0m\u001b[0m\n",
            "\u001b[0;32m/usr/local/lib/python3.12/dist-packages/langsmith/client.py\u001b[0m in \u001b[0;36m<module>\u001b[0;34m\u001b[0m\n\u001b[1;32m     59\u001b[0m \u001b[0;34m\u001b[0m\u001b[0m\n\u001b[1;32m     60\u001b[0m \u001b[0;32mimport\u001b[0m \u001b[0mlangsmith\u001b[0m\u001b[0;34m\u001b[0m\u001b[0;34m\u001b[0m\u001b[0m\n\u001b[0;32m---> 61\u001b[0;31m \u001b[0;32mfrom\u001b[0m \u001b[0mlangsmith\u001b[0m \u001b[0;32mimport\u001b[0m \u001b[0menv\u001b[0m \u001b[0;32mas\u001b[0m \u001b[0mls_env\u001b[0m\u001b[0;34m\u001b[0m\u001b[0;34m\u001b[0m\u001b[0m\n\u001b[0m\u001b[1;32m     62\u001b[0m \u001b[0;32mfrom\u001b[0m \u001b[0mlangsmith\u001b[0m \u001b[0;32mimport\u001b[0m \u001b[0mschemas\u001b[0m \u001b[0;32mas\u001b[0m \u001b[0mls_schemas\u001b[0m\u001b[0;34m\u001b[0m\u001b[0;34m\u001b[0m\u001b[0m\n\u001b[1;32m     63\u001b[0m \u001b[0;32mfrom\u001b[0m \u001b[0mlangsmith\u001b[0m \u001b[0;32mimport\u001b[0m \u001b[0mutils\u001b[0m \u001b[0;32mas\u001b[0m \u001b[0mls_utils\u001b[0m\u001b[0;34m\u001b[0m\u001b[0;34m\u001b[0m\u001b[0m\n",
            "\u001b[0;32m/usr/local/lib/python3.12/dist-packages/langsmith/env/__init__.py\u001b[0m in \u001b[0;36m<module>\u001b[0;34m\u001b[0m\n\u001b[1;32m      1\u001b[0m \u001b[0;34m\"\"\"Utilities to get information about the runtime environment.\"\"\"\u001b[0m\u001b[0;34m\u001b[0m\u001b[0;34m\u001b[0m\u001b[0m\n\u001b[1;32m      2\u001b[0m \u001b[0;32mfrom\u001b[0m \u001b[0mlangsmith\u001b[0m\u001b[0;34m.\u001b[0m\u001b[0menv\u001b[0m\u001b[0;34m.\u001b[0m\u001b[0m_git\u001b[0m \u001b[0;32mimport\u001b[0m \u001b[0mget_git_info\u001b[0m\u001b[0;34m\u001b[0m\u001b[0;34m\u001b[0m\u001b[0m\n\u001b[0;32m----> 3\u001b[0;31m from langsmith.env._runtime_env import (\n\u001b[0m\u001b[1;32m      4\u001b[0m     \u001b[0mget_docker_compose_command\u001b[0m\u001b[0;34m,\u001b[0m\u001b[0;34m\u001b[0m\u001b[0;34m\u001b[0m\u001b[0m\n\u001b[1;32m      5\u001b[0m     \u001b[0mget_docker_compose_version\u001b[0m\u001b[0;34m,\u001b[0m\u001b[0;34m\u001b[0m\u001b[0;34m\u001b[0m\u001b[0m\n",
            "\u001b[0;32m/usr/local/lib/python3.12/dist-packages/langsmith/env/_runtime_env.py\u001b[0m in \u001b[0;36m<module>\u001b[0;34m\u001b[0m\n\u001b[1;32m      8\u001b[0m \u001b[0;32mfrom\u001b[0m \u001b[0mtyping\u001b[0m \u001b[0;32mimport\u001b[0m \u001b[0mDict\u001b[0m\u001b[0;34m,\u001b[0m \u001b[0mList\u001b[0m\u001b[0;34m,\u001b[0m \u001b[0mOptional\u001b[0m\u001b[0;34m,\u001b[0m \u001b[0mUnion\u001b[0m\u001b[0;34m\u001b[0m\u001b[0;34m\u001b[0m\u001b[0m\n\u001b[1;32m      9\u001b[0m \u001b[0;34m\u001b[0m\u001b[0m\n\u001b[0;32m---> 10\u001b[0;31m \u001b[0;32mfrom\u001b[0m \u001b[0mlangsmith\u001b[0m\u001b[0;34m.\u001b[0m\u001b[0mutils\u001b[0m \u001b[0;32mimport\u001b[0m \u001b[0mget_docker_compose_command\u001b[0m\u001b[0;34m\u001b[0m\u001b[0;34m\u001b[0m\u001b[0m\n\u001b[0m\u001b[1;32m     11\u001b[0m \u001b[0;32mfrom\u001b[0m \u001b[0mlangsmith\u001b[0m\u001b[0;34m.\u001b[0m\u001b[0menv\u001b[0m\u001b[0;34m.\u001b[0m\u001b[0m_git\u001b[0m \u001b[0;32mimport\u001b[0m \u001b[0mexec_git\u001b[0m\u001b[0;34m\u001b[0m\u001b[0;34m\u001b[0m\u001b[0m\n\u001b[1;32m     12\u001b[0m \u001b[0;34m\u001b[0m\u001b[0m\n",
            "\u001b[0;32m/usr/local/lib/python3.12/dist-packages/langsmith/utils.py\u001b[0m in \u001b[0;36m<module>\u001b[0;34m\u001b[0m\n\u001b[1;32m     34\u001b[0m \u001b[0;32mfrom\u001b[0m \u001b[0murllib3\u001b[0m\u001b[0;34m.\u001b[0m\u001b[0mutil\u001b[0m \u001b[0;32mimport\u001b[0m \u001b[0mRetry\u001b[0m  \u001b[0;31m# type: ignore[import-untyped]\u001b[0m\u001b[0;34m\u001b[0m\u001b[0;34m\u001b[0m\u001b[0m\n\u001b[1;32m     35\u001b[0m \u001b[0;34m\u001b[0m\u001b[0m\n\u001b[0;32m---> 36\u001b[0;31m \u001b[0;32mfrom\u001b[0m \u001b[0mlangsmith\u001b[0m \u001b[0;32mimport\u001b[0m \u001b[0mschemas\u001b[0m \u001b[0;32mas\u001b[0m \u001b[0mls_schemas\u001b[0m\u001b[0;34m\u001b[0m\u001b[0;34m\u001b[0m\u001b[0m\n\u001b[0m\u001b[1;32m     37\u001b[0m \u001b[0;34m\u001b[0m\u001b[0m\n\u001b[1;32m     38\u001b[0m \u001b[0m_LOGGER\u001b[0m \u001b[0;34m=\u001b[0m \u001b[0mlogging\u001b[0m\u001b[0;34m.\u001b[0m\u001b[0mgetLogger\u001b[0m\u001b[0;34m(\u001b[0m\u001b[0m__name__\u001b[0m\u001b[0;34m)\u001b[0m\u001b[0;34m\u001b[0m\u001b[0;34m\u001b[0m\u001b[0m\n",
            "\u001b[0;32m/usr/local/lib/python3.12/dist-packages/langsmith/schemas.py\u001b[0m in \u001b[0;36m<module>\u001b[0;34m\u001b[0m\n\u001b[1;32m    702\u001b[0m \u001b[0;34m\u001b[0m\u001b[0m\n\u001b[1;32m    703\u001b[0m \u001b[0;34m\u001b[0m\u001b[0m\n\u001b[0;32m--> 704\u001b[0;31m \u001b[0;32mclass\u001b[0m \u001b[0mFeedbackCreate\u001b[0m\u001b[0;34m(\u001b[0m\u001b[0mFeedbackBase\u001b[0m\u001b[0;34m)\u001b[0m\u001b[0;34m:\u001b[0m\u001b[0;34m\u001b[0m\u001b[0;34m\u001b[0m\u001b[0m\n\u001b[0m\u001b[1;32m    705\u001b[0m     \u001b[0;34m\"\"\"Schema used for creating feedback.\"\"\"\u001b[0m\u001b[0;34m\u001b[0m\u001b[0;34m\u001b[0m\u001b[0m\n\u001b[1;32m    706\u001b[0m \u001b[0;34m\u001b[0m\u001b[0m\n",
            "\u001b[0;32m/usr/local/lib/python3.12/dist-packages/pydantic/v1/main.py\u001b[0m in \u001b[0;36m__new__\u001b[0;34m(mcs, name, bases, namespace, **kwargs)\u001b[0m\n\u001b[1;32m    195\u001b[0m                     ):\n\u001b[1;32m    196\u001b[0m                         \u001b[0;32mcontinue\u001b[0m\u001b[0;34m\u001b[0m\u001b[0;34m\u001b[0m\u001b[0m\n\u001b[0;32m--> 197\u001b[0;31m                     fields[ann_name] = ModelField.infer(\n\u001b[0m\u001b[1;32m    198\u001b[0m                         \u001b[0mname\u001b[0m\u001b[0;34m=\u001b[0m\u001b[0mann_name\u001b[0m\u001b[0;34m,\u001b[0m\u001b[0;34m\u001b[0m\u001b[0;34m\u001b[0m\u001b[0m\n\u001b[1;32m    199\u001b[0m                         \u001b[0mvalue\u001b[0m\u001b[0;34m=\u001b[0m\u001b[0mvalue\u001b[0m\u001b[0;34m,\u001b[0m\u001b[0;34m\u001b[0m\u001b[0;34m\u001b[0m\u001b[0m\n",
            "\u001b[0;32m/usr/local/lib/python3.12/dist-packages/pydantic/v1/fields.py\u001b[0m in \u001b[0;36minfer\u001b[0;34m(cls, name, value, annotation, class_validators, config)\u001b[0m\n\u001b[1;32m    502\u001b[0m         \u001b[0mannotation\u001b[0m \u001b[0;34m=\u001b[0m \u001b[0mget_annotation_from_field_info\u001b[0m\u001b[0;34m(\u001b[0m\u001b[0mannotation\u001b[0m\u001b[0;34m,\u001b[0m \u001b[0mfield_info\u001b[0m\u001b[0;34m,\u001b[0m \u001b[0mname\u001b[0m\u001b[0;34m,\u001b[0m \u001b[0mconfig\u001b[0m\u001b[0;34m.\u001b[0m\u001b[0mvalidate_assignment\u001b[0m\u001b[0;34m)\u001b[0m\u001b[0;34m\u001b[0m\u001b[0;34m\u001b[0m\u001b[0m\n\u001b[1;32m    503\u001b[0m \u001b[0;34m\u001b[0m\u001b[0m\n\u001b[0;32m--> 504\u001b[0;31m         return cls(\n\u001b[0m\u001b[1;32m    505\u001b[0m             \u001b[0mname\u001b[0m\u001b[0;34m=\u001b[0m\u001b[0mname\u001b[0m\u001b[0;34m,\u001b[0m\u001b[0;34m\u001b[0m\u001b[0;34m\u001b[0m\u001b[0m\n\u001b[1;32m    506\u001b[0m             \u001b[0mtype_\u001b[0m\u001b[0;34m=\u001b[0m\u001b[0mannotation\u001b[0m\u001b[0;34m,\u001b[0m\u001b[0;34m\u001b[0m\u001b[0;34m\u001b[0m\u001b[0m\n",
            "\u001b[0;32m/usr/local/lib/python3.12/dist-packages/pydantic/v1/fields.py\u001b[0m in \u001b[0;36m__init__\u001b[0;34m(self, name, type_, class_validators, model_config, default, default_factory, required, final, alias, field_info)\u001b[0m\n\u001b[1;32m    432\u001b[0m         \u001b[0mself\u001b[0m\u001b[0;34m.\u001b[0m\u001b[0mshape\u001b[0m\u001b[0;34m:\u001b[0m \u001b[0mint\u001b[0m \u001b[0;34m=\u001b[0m \u001b[0mSHAPE_SINGLETON\u001b[0m\u001b[0;34m\u001b[0m\u001b[0;34m\u001b[0m\u001b[0m\n\u001b[1;32m    433\u001b[0m         \u001b[0mself\u001b[0m\u001b[0;34m.\u001b[0m\u001b[0mmodel_config\u001b[0m\u001b[0;34m.\u001b[0m\u001b[0mprepare_field\u001b[0m\u001b[0;34m(\u001b[0m\u001b[0mself\u001b[0m\u001b[0;34m)\u001b[0m\u001b[0;34m\u001b[0m\u001b[0;34m\u001b[0m\u001b[0m\n\u001b[0;32m--> 434\u001b[0;31m         \u001b[0mself\u001b[0m\u001b[0;34m.\u001b[0m\u001b[0mprepare\u001b[0m\u001b[0;34m(\u001b[0m\u001b[0;34m)\u001b[0m\u001b[0;34m\u001b[0m\u001b[0;34m\u001b[0m\u001b[0m\n\u001b[0m\u001b[1;32m    435\u001b[0m \u001b[0;34m\u001b[0m\u001b[0m\n\u001b[1;32m    436\u001b[0m     \u001b[0;32mdef\u001b[0m \u001b[0mget_default\u001b[0m\u001b[0;34m(\u001b[0m\u001b[0mself\u001b[0m\u001b[0;34m)\u001b[0m \u001b[0;34m->\u001b[0m \u001b[0mAny\u001b[0m\u001b[0;34m:\u001b[0m\u001b[0;34m\u001b[0m\u001b[0;34m\u001b[0m\u001b[0m\n",
            "\u001b[0;32m/usr/local/lib/python3.12/dist-packages/pydantic/v1/fields.py\u001b[0m in \u001b[0;36mprepare\u001b[0;34m(self)\u001b[0m\n\u001b[1;32m    553\u001b[0m         \u001b[0;32mif\u001b[0m \u001b[0mself\u001b[0m\u001b[0;34m.\u001b[0m\u001b[0mdefault\u001b[0m \u001b[0;32mis\u001b[0m \u001b[0mUndefined\u001b[0m \u001b[0;32mand\u001b[0m \u001b[0mself\u001b[0m\u001b[0;34m.\u001b[0m\u001b[0mdefault_factory\u001b[0m \u001b[0;32mis\u001b[0m \u001b[0;32mNone\u001b[0m\u001b[0;34m:\u001b[0m\u001b[0;34m\u001b[0m\u001b[0;34m\u001b[0m\u001b[0m\n\u001b[1;32m    554\u001b[0m             \u001b[0mself\u001b[0m\u001b[0;34m.\u001b[0m\u001b[0mdefault\u001b[0m \u001b[0;34m=\u001b[0m \u001b[0;32mNone\u001b[0m\u001b[0;34m\u001b[0m\u001b[0;34m\u001b[0m\u001b[0m\n\u001b[0;32m--> 555\u001b[0;31m         \u001b[0mself\u001b[0m\u001b[0;34m.\u001b[0m\u001b[0mpopulate_validators\u001b[0m\u001b[0;34m(\u001b[0m\u001b[0;34m)\u001b[0m\u001b[0;34m\u001b[0m\u001b[0;34m\u001b[0m\u001b[0m\n\u001b[0m\u001b[1;32m    556\u001b[0m \u001b[0;34m\u001b[0m\u001b[0m\n\u001b[1;32m    557\u001b[0m     \u001b[0;32mdef\u001b[0m \u001b[0m_set_default_and_type\u001b[0m\u001b[0;34m(\u001b[0m\u001b[0mself\u001b[0m\u001b[0;34m)\u001b[0m \u001b[0;34m->\u001b[0m \u001b[0;32mNone\u001b[0m\u001b[0;34m:\u001b[0m\u001b[0;34m\u001b[0m\u001b[0;34m\u001b[0m\u001b[0m\n",
            "\u001b[0;32m/usr/local/lib/python3.12/dist-packages/pydantic/v1/fields.py\u001b[0m in \u001b[0;36mpopulate_validators\u001b[0;34m(self)\u001b[0m\n\u001b[1;32m    827\u001b[0m             v_funcs = (\n\u001b[1;32m    828\u001b[0m                 \u001b[0;34m*\u001b[0m\u001b[0;34m[\u001b[0m\u001b[0mv\u001b[0m\u001b[0;34m.\u001b[0m\u001b[0mfunc\u001b[0m \u001b[0;32mfor\u001b[0m \u001b[0mv\u001b[0m \u001b[0;32min\u001b[0m \u001b[0mclass_validators_\u001b[0m \u001b[0;32mif\u001b[0m \u001b[0mv\u001b[0m\u001b[0;34m.\u001b[0m\u001b[0meach_item\u001b[0m \u001b[0;32mand\u001b[0m \u001b[0mv\u001b[0m\u001b[0;34m.\u001b[0m\u001b[0mpre\u001b[0m\u001b[0;34m]\u001b[0m\u001b[0;34m,\u001b[0m\u001b[0;34m\u001b[0m\u001b[0;34m\u001b[0m\u001b[0m\n\u001b[0;32m--> 829\u001b[0;31m                 \u001b[0;34m*\u001b[0m\u001b[0;34m(\u001b[0m\u001b[0mget_validators\u001b[0m\u001b[0;34m(\u001b[0m\u001b[0;34m)\u001b[0m \u001b[0;32mif\u001b[0m \u001b[0mget_validators\u001b[0m \u001b[0;32melse\u001b[0m \u001b[0mlist\u001b[0m\u001b[0;34m(\u001b[0m\u001b[0mfind_validators\u001b[0m\u001b[0;34m(\u001b[0m\u001b[0mself\u001b[0m\u001b[0;34m.\u001b[0m\u001b[0mtype_\u001b[0m\u001b[0;34m,\u001b[0m \u001b[0mself\u001b[0m\u001b[0;34m.\u001b[0m\u001b[0mmodel_config\u001b[0m\u001b[0;34m)\u001b[0m\u001b[0;34m)\u001b[0m\u001b[0;34m)\u001b[0m\u001b[0;34m,\u001b[0m\u001b[0;34m\u001b[0m\u001b[0;34m\u001b[0m\u001b[0m\n\u001b[0m\u001b[1;32m    830\u001b[0m                 \u001b[0;34m*\u001b[0m\u001b[0;34m[\u001b[0m\u001b[0mv\u001b[0m\u001b[0;34m.\u001b[0m\u001b[0mfunc\u001b[0m \u001b[0;32mfor\u001b[0m \u001b[0mv\u001b[0m \u001b[0;32min\u001b[0m \u001b[0mclass_validators_\u001b[0m \u001b[0;32mif\u001b[0m \u001b[0mv\u001b[0m\u001b[0;34m.\u001b[0m\u001b[0meach_item\u001b[0m \u001b[0;32mand\u001b[0m \u001b[0;32mnot\u001b[0m \u001b[0mv\u001b[0m\u001b[0;34m.\u001b[0m\u001b[0mpre\u001b[0m\u001b[0;34m]\u001b[0m\u001b[0;34m,\u001b[0m\u001b[0;34m\u001b[0m\u001b[0;34m\u001b[0m\u001b[0m\n\u001b[1;32m    831\u001b[0m             )\n",
            "\u001b[0;32m/usr/local/lib/python3.12/dist-packages/pydantic/v1/validators.py\u001b[0m in \u001b[0;36mfind_validators\u001b[0;34m(type_, config)\u001b[0m\n\u001b[1;32m    737\u001b[0m         \u001b[0;32mreturn\u001b[0m\u001b[0;34m\u001b[0m\u001b[0;34m\u001b[0m\u001b[0m\n\u001b[1;32m    738\u001b[0m     \u001b[0;32mif\u001b[0m \u001b[0mis_typeddict\u001b[0m\u001b[0;34m(\u001b[0m\u001b[0mtype_\u001b[0m\u001b[0;34m)\u001b[0m\u001b[0;34m:\u001b[0m\u001b[0;34m\u001b[0m\u001b[0;34m\u001b[0m\u001b[0m\n\u001b[0;32m--> 739\u001b[0;31m         \u001b[0;32myield\u001b[0m \u001b[0mmake_typeddict_validator\u001b[0m\u001b[0;34m(\u001b[0m\u001b[0mtype_\u001b[0m\u001b[0;34m,\u001b[0m \u001b[0mconfig\u001b[0m\u001b[0;34m)\u001b[0m\u001b[0;34m\u001b[0m\u001b[0;34m\u001b[0m\u001b[0m\n\u001b[0m\u001b[1;32m    740\u001b[0m         \u001b[0;32mreturn\u001b[0m\u001b[0;34m\u001b[0m\u001b[0;34m\u001b[0m\u001b[0m\n\u001b[1;32m    741\u001b[0m \u001b[0;34m\u001b[0m\u001b[0m\n",
            "\u001b[0;32m/usr/local/lib/python3.12/dist-packages/pydantic/v1/validators.py\u001b[0m in \u001b[0;36mmake_typeddict_validator\u001b[0;34m(typeddict_cls, config)\u001b[0m\n\u001b[1;32m    623\u001b[0m     \u001b[0;32mfrom\u001b[0m \u001b[0mpydantic\u001b[0m\u001b[0;34m.\u001b[0m\u001b[0mv1\u001b[0m\u001b[0;34m.\u001b[0m\u001b[0mannotated_types\u001b[0m \u001b[0;32mimport\u001b[0m \u001b[0mcreate_model_from_typeddict\u001b[0m\u001b[0;34m\u001b[0m\u001b[0;34m\u001b[0m\u001b[0m\n\u001b[1;32m    624\u001b[0m \u001b[0;34m\u001b[0m\u001b[0m\n\u001b[0;32m--> 625\u001b[0;31m     TypedDictModel = create_model_from_typeddict(\n\u001b[0m\u001b[1;32m    626\u001b[0m         \u001b[0mtypeddict_cls\u001b[0m\u001b[0;34m,\u001b[0m\u001b[0;34m\u001b[0m\u001b[0;34m\u001b[0m\u001b[0m\n\u001b[1;32m    627\u001b[0m         \u001b[0m__config__\u001b[0m\u001b[0;34m=\u001b[0m\u001b[0mconfig\u001b[0m\u001b[0;34m,\u001b[0m\u001b[0;34m\u001b[0m\u001b[0;34m\u001b[0m\u001b[0m\n",
            "\u001b[0;32m/usr/local/lib/python3.12/dist-packages/pydantic/v1/annotated_types.py\u001b[0m in \u001b[0;36mcreate_model_from_typeddict\u001b[0;34m(typeddict_cls, **kwargs)\u001b[0m\n\u001b[1;32m     53\u001b[0m     }\n\u001b[1;32m     54\u001b[0m \u001b[0;34m\u001b[0m\u001b[0m\n\u001b[0;32m---> 55\u001b[0;31m     \u001b[0;32mreturn\u001b[0m \u001b[0mcreate_model\u001b[0m\u001b[0;34m(\u001b[0m\u001b[0mtypeddict_cls\u001b[0m\u001b[0;34m.\u001b[0m\u001b[0m__name__\u001b[0m\u001b[0;34m,\u001b[0m \u001b[0;34m**\u001b[0m\u001b[0mkwargs\u001b[0m\u001b[0;34m,\u001b[0m \u001b[0;34m**\u001b[0m\u001b[0mfield_definitions\u001b[0m\u001b[0;34m)\u001b[0m\u001b[0;34m\u001b[0m\u001b[0;34m\u001b[0m\u001b[0m\n\u001b[0m\u001b[1;32m     56\u001b[0m \u001b[0;34m\u001b[0m\u001b[0m\n\u001b[1;32m     57\u001b[0m \u001b[0;34m\u001b[0m\u001b[0m\n",
            "\u001b[0;32m/usr/local/lib/python3.12/dist-packages/pydantic/v1/main.py\u001b[0m in \u001b[0;36mcreate_model\u001b[0;34m(__model_name, __config__, __base__, __module__, __validators__, __cls_kwargs__, __slots__, **field_definitions)\u001b[0m\n\u001b[1;32m   1028\u001b[0m         \u001b[0mns\u001b[0m\u001b[0;34m[\u001b[0m\u001b[0;34m'__orig_bases__'\u001b[0m\u001b[0;34m]\u001b[0m \u001b[0;34m=\u001b[0m \u001b[0m__base__\u001b[0m\u001b[0;34m\u001b[0m\u001b[0;34m\u001b[0m\u001b[0m\n\u001b[1;32m   1029\u001b[0m     \u001b[0mnamespace\u001b[0m\u001b[0;34m.\u001b[0m\u001b[0mupdate\u001b[0m\u001b[0;34m(\u001b[0m\u001b[0mns\u001b[0m\u001b[0;34m)\u001b[0m\u001b[0;34m\u001b[0m\u001b[0;34m\u001b[0m\u001b[0m\n\u001b[0;32m-> 1030\u001b[0;31m     \u001b[0;32mreturn\u001b[0m \u001b[0mmeta\u001b[0m\u001b[0;34m(\u001b[0m\u001b[0m__model_name\u001b[0m\u001b[0;34m,\u001b[0m \u001b[0mresolved_bases\u001b[0m\u001b[0;34m,\u001b[0m \u001b[0mnamespace\u001b[0m\u001b[0;34m,\u001b[0m \u001b[0;34m**\u001b[0m\u001b[0mkwds\u001b[0m\u001b[0;34m)\u001b[0m\u001b[0;34m\u001b[0m\u001b[0;34m\u001b[0m\u001b[0m\n\u001b[0m\u001b[1;32m   1031\u001b[0m \u001b[0;34m\u001b[0m\u001b[0m\n\u001b[1;32m   1032\u001b[0m \u001b[0;34m\u001b[0m\u001b[0m\n",
            "\u001b[0;32m/usr/local/lib/python3.12/dist-packages/pydantic/v1/main.py\u001b[0m in \u001b[0;36m__new__\u001b[0;34m(mcs, name, bases, namespace, **kwargs)\u001b[0m\n\u001b[1;32m    195\u001b[0m                     ):\n\u001b[1;32m    196\u001b[0m                         \u001b[0;32mcontinue\u001b[0m\u001b[0;34m\u001b[0m\u001b[0;34m\u001b[0m\u001b[0m\n\u001b[0;32m--> 197\u001b[0;31m                     fields[ann_name] = ModelField.infer(\n\u001b[0m\u001b[1;32m    198\u001b[0m                         \u001b[0mname\u001b[0m\u001b[0;34m=\u001b[0m\u001b[0mann_name\u001b[0m\u001b[0;34m,\u001b[0m\u001b[0;34m\u001b[0m\u001b[0;34m\u001b[0m\u001b[0m\n\u001b[1;32m    199\u001b[0m                         \u001b[0mvalue\u001b[0m\u001b[0;34m=\u001b[0m\u001b[0mvalue\u001b[0m\u001b[0;34m,\u001b[0m\u001b[0;34m\u001b[0m\u001b[0;34m\u001b[0m\u001b[0m\n",
            "\u001b[0;32m/usr/local/lib/python3.12/dist-packages/pydantic/v1/fields.py\u001b[0m in \u001b[0;36minfer\u001b[0;34m(cls, name, value, annotation, class_validators, config)\u001b[0m\n\u001b[1;32m    502\u001b[0m         \u001b[0mannotation\u001b[0m \u001b[0;34m=\u001b[0m \u001b[0mget_annotation_from_field_info\u001b[0m\u001b[0;34m(\u001b[0m\u001b[0mannotation\u001b[0m\u001b[0;34m,\u001b[0m \u001b[0mfield_info\u001b[0m\u001b[0;34m,\u001b[0m \u001b[0mname\u001b[0m\u001b[0;34m,\u001b[0m \u001b[0mconfig\u001b[0m\u001b[0;34m.\u001b[0m\u001b[0mvalidate_assignment\u001b[0m\u001b[0;34m)\u001b[0m\u001b[0;34m\u001b[0m\u001b[0;34m\u001b[0m\u001b[0m\n\u001b[1;32m    503\u001b[0m \u001b[0;34m\u001b[0m\u001b[0m\n\u001b[0;32m--> 504\u001b[0;31m         return cls(\n\u001b[0m\u001b[1;32m    505\u001b[0m             \u001b[0mname\u001b[0m\u001b[0;34m=\u001b[0m\u001b[0mname\u001b[0m\u001b[0;34m,\u001b[0m\u001b[0;34m\u001b[0m\u001b[0;34m\u001b[0m\u001b[0m\n\u001b[1;32m    506\u001b[0m             \u001b[0mtype_\u001b[0m\u001b[0;34m=\u001b[0m\u001b[0mannotation\u001b[0m\u001b[0;34m,\u001b[0m\u001b[0;34m\u001b[0m\u001b[0;34m\u001b[0m\u001b[0m\n",
            "\u001b[0;32m/usr/local/lib/python3.12/dist-packages/pydantic/v1/fields.py\u001b[0m in \u001b[0;36m__init__\u001b[0;34m(self, name, type_, class_validators, model_config, default, default_factory, required, final, alias, field_info)\u001b[0m\n\u001b[1;32m    432\u001b[0m         \u001b[0mself\u001b[0m\u001b[0;34m.\u001b[0m\u001b[0mshape\u001b[0m\u001b[0;34m:\u001b[0m \u001b[0mint\u001b[0m \u001b[0;34m=\u001b[0m \u001b[0mSHAPE_SINGLETON\u001b[0m\u001b[0;34m\u001b[0m\u001b[0;34m\u001b[0m\u001b[0m\n\u001b[1;32m    433\u001b[0m         \u001b[0mself\u001b[0m\u001b[0;34m.\u001b[0m\u001b[0mmodel_config\u001b[0m\u001b[0;34m.\u001b[0m\u001b[0mprepare_field\u001b[0m\u001b[0;34m(\u001b[0m\u001b[0mself\u001b[0m\u001b[0;34m)\u001b[0m\u001b[0;34m\u001b[0m\u001b[0;34m\u001b[0m\u001b[0m\n\u001b[0;32m--> 434\u001b[0;31m         \u001b[0mself\u001b[0m\u001b[0;34m.\u001b[0m\u001b[0mprepare\u001b[0m\u001b[0;34m(\u001b[0m\u001b[0;34m)\u001b[0m\u001b[0;34m\u001b[0m\u001b[0;34m\u001b[0m\u001b[0m\n\u001b[0m\u001b[1;32m    435\u001b[0m \u001b[0;34m\u001b[0m\u001b[0m\n\u001b[1;32m    436\u001b[0m     \u001b[0;32mdef\u001b[0m \u001b[0mget_default\u001b[0m\u001b[0;34m(\u001b[0m\u001b[0mself\u001b[0m\u001b[0;34m)\u001b[0m \u001b[0;34m->\u001b[0m \u001b[0mAny\u001b[0m\u001b[0;34m:\u001b[0m\u001b[0;34m\u001b[0m\u001b[0;34m\u001b[0m\u001b[0m\n",
            "\u001b[0;32m/usr/local/lib/python3.12/dist-packages/pydantic/v1/fields.py\u001b[0m in \u001b[0;36mprepare\u001b[0;34m(self)\u001b[0m\n\u001b[1;32m    553\u001b[0m         \u001b[0;32mif\u001b[0m \u001b[0mself\u001b[0m\u001b[0;34m.\u001b[0m\u001b[0mdefault\u001b[0m \u001b[0;32mis\u001b[0m \u001b[0mUndefined\u001b[0m \u001b[0;32mand\u001b[0m \u001b[0mself\u001b[0m\u001b[0;34m.\u001b[0m\u001b[0mdefault_factory\u001b[0m \u001b[0;32mis\u001b[0m \u001b[0;32mNone\u001b[0m\u001b[0;34m:\u001b[0m\u001b[0;34m\u001b[0m\u001b[0;34m\u001b[0m\u001b[0m\n\u001b[1;32m    554\u001b[0m             \u001b[0mself\u001b[0m\u001b[0;34m.\u001b[0m\u001b[0mdefault\u001b[0m \u001b[0;34m=\u001b[0m \u001b[0;32mNone\u001b[0m\u001b[0;34m\u001b[0m\u001b[0;34m\u001b[0m\u001b[0m\n\u001b[0;32m--> 555\u001b[0;31m         \u001b[0mself\u001b[0m\u001b[0;34m.\u001b[0m\u001b[0mpopulate_validators\u001b[0m\u001b[0;34m(\u001b[0m\u001b[0;34m)\u001b[0m\u001b[0;34m\u001b[0m\u001b[0;34m\u001b[0m\u001b[0m\n\u001b[0m\u001b[1;32m    556\u001b[0m \u001b[0;34m\u001b[0m\u001b[0m\n\u001b[1;32m    557\u001b[0m     \u001b[0;32mdef\u001b[0m \u001b[0m_set_default_and_type\u001b[0m\u001b[0;34m(\u001b[0m\u001b[0mself\u001b[0m\u001b[0;34m)\u001b[0m \u001b[0;34m->\u001b[0m \u001b[0;32mNone\u001b[0m\u001b[0;34m:\u001b[0m\u001b[0;34m\u001b[0m\u001b[0;34m\u001b[0m\u001b[0m\n",
            "\u001b[0;32m/usr/local/lib/python3.12/dist-packages/pydantic/v1/fields.py\u001b[0m in \u001b[0;36mpopulate_validators\u001b[0;34m(self)\u001b[0m\n\u001b[1;32m    812\u001b[0m         )\n\u001b[1;32m    813\u001b[0m \u001b[0;34m\u001b[0m\u001b[0m\n\u001b[0;32m--> 814\u001b[0;31m     \u001b[0;32mdef\u001b[0m \u001b[0mpopulate_validators\u001b[0m\u001b[0;34m(\u001b[0m\u001b[0mself\u001b[0m\u001b[0;34m)\u001b[0m \u001b[0;34m->\u001b[0m \u001b[0;32mNone\u001b[0m\u001b[0;34m:\u001b[0m\u001b[0;34m\u001b[0m\u001b[0;34m\u001b[0m\u001b[0m\n\u001b[0m\u001b[1;32m    815\u001b[0m         \"\"\"\n\u001b[1;32m    816\u001b[0m         \u001b[0mPrepare\u001b[0m \u001b[0mself\u001b[0m\u001b[0;34m.\u001b[0m\u001b[0mpre_validators\u001b[0m\u001b[0;34m,\u001b[0m \u001b[0mself\u001b[0m\u001b[0;34m.\u001b[0m\u001b[0mvalidators\u001b[0m\u001b[0;34m,\u001b[0m \u001b[0;32mand\u001b[0m \u001b[0mself\u001b[0m\u001b[0;34m.\u001b[0m\u001b[0mpost_validators\u001b[0m \u001b[0mbased\u001b[0m \u001b[0mon\u001b[0m \u001b[0mself\u001b[0m\u001b[0;34m.\u001b[0m\u001b[0mtype_\u001b[0m\u001b[0;31m'\u001b[0m\u001b[0ms\u001b[0m  \u001b[0m__get_validators__\u001b[0m\u001b[0;34m\u001b[0m\u001b[0;34m\u001b[0m\u001b[0m\n",
            "\u001b[0;31mKeyboardInterrupt\u001b[0m: "
          ]
        }
      ]
    },
    {
      "cell_type": "code",
      "source": [
        "# YENİ HÜCRE: Tüm Veri Setini (Eski + Yeni) Kodla Yeniden Yazma\n",
        "\n",
        "tum_veri_seti = \"\"\"\n",
        "KONU: Deadlift\n",
        "Yapılışı:\n",
        "1. Ayaklarınızı omuz genişliğinde açın ve barı ayaklarınıza yakın tutun.\n",
        "2. Kalçanızı geriye itin ve sırtınızı düz tutarak barı kavrayın.\n",
        "3. Göğsünüzü yukarı kaldırın, nefes alın ve bacaklarınızla yeri itin.\n",
        "4. Barı bacaklarınıza yakın tutarak yukarı kalkın.\n",
        "Çalışan Kaslar: Arka zincir (Hamstring, Kalça, Alt Sırt), Trapez, Ön Kol.\n",
        "İpucu: Hareketi bacaklarınızla başlatın, sırtınızı kilit pozisyonuna getirin. Barı her zaman vücuda yakın tutun.\n",
        "\n",
        "KONU: Squat\n",
        "Yapılışı:\n",
        "1. Barı trapez kaslarınızın üzerine rahatça yerleştirin.\n",
        "2. Ayaklarınızı omuz genişliğinden biraz daha fazla açın.\n",
        "3. Harekete kalçanızı geriye doğru iterek başlayın. Dizleriniz ayak parmaklarınızla aynı hizada olmalı.\n",
        "4. Kalçanız dizlerinizin altına inene kadar inin (derinlik esneklik limitiniz kadardır).\n",
        "Çalışan Kaslar: Quadriceps (Ön Bacak), Hamstring, Kalça.\n",
        "İpucu: Yere sıkıca basarak dengenizi koruyun. Ağırlığı merkeze odaklayın ve dizlerinizi dışarı itin.\n",
        "\n",
        "KONU: Bench Press\n",
        "Yapılışı:\n",
        "1. Sehpaya yatın, göz hizasına barı getirin. Kürek kemiklerinizi birbirine doğru sıkıştırın.\n",
        "2. Barı omuz genişliğinden biraz daha açık bir tutuşla kavrayın.\n",
        "3. Barı yavaşça göğsünüzün alt kısmına indirin. Dirsekleriniz vücudunuza 45-75 derece açıyla bakmalı.\n",
        "4. Kontrollü bir şekilde barı yukarı itin.\n",
        "Çalışan Kaslar: Pektoral (Göğüs), Ön Omuz, Triceps (Arka Kol).\n",
        "İpucu: Kürek kemiklerini sehpaya kilitlemek ve ayakları yere sıkıca basmak kuvvet aktarımını artırır.\n",
        "\n",
        "KONU: Barbell Row\n",
        "Yapılışı:\n",
        "1. Ayakları omuz genişliğinde açın ve barı diz hizasına kadar kaldırın.\n",
        "2. Dizleri hafif kırın, gövdeyi 45 derece öne eğin ve sırtınızı düz tutun.\n",
        "3. Barı göbeğinizin alt kısmına doğru çekin, kürek kemiklerinizi sıkın.\n",
        "4. Yavaşça başlangıç pozisyonuna dönün.\n",
        "Çalışan Kaslar: Latissimus Dorsi (Sırtın Geniş Kasları), Trapez, Biceps (Ön Kol).\n",
        "İpucu: Çekiş sırasında dirseklerinizi vücudunuza yakın tutun ve sırt kaslarınızla çekmeyi odaklayın.\n",
        "\n",
        "KONU: Overhead Press (Omuz Pres)\n",
        "Yapılışı:\n",
        "1. Ayakta veya oturarak, barı omuz hizasında tutun (ön omuzların hemen üstünde).\n",
        "2. Barı başınızın üzerinden yukarı doğru itin, kollarınızı tam açın.\n",
        "3. Barı yavaşça başlangıç pozisyonuna indirin.\n",
        "Çalışan Kaslar: Deltoidler (Omuz kasları), Triceps.\n",
        "İpucu: Vücudun merkez bölgesini (core) sıkı tutmak, sırtın geriye eğilmesini (bel çukurunun artmasını) engeller.\n",
        "\n",
        "KONU: Lunge\n",
        "Yapılışı:\n",
        "1. Ayakta dik durun ve bir adım öne atın.\n",
        "2. Gövdenizi dik tutarak kalçanızı aşağı indirin. Ön diziniz 90 derece bükülmeli ve ayak parmaklarınızı geçmemeli. Arka diziniz yere yaklaşmalı.\n",
        "3. Ön ayağınızla yeri iterek başlangıç pozisyonuna dönün.\n",
        "Çalışan Kaslar: Quadriceps, Hamstring, Kalça, Dengeleyici kaslar.\n",
        "İpucu: Dengede kalmak için bakışınızı sabit bir noktaya odaklayın. Adımlarınızı çok geniş veya çok dar atmamaya dikkat edin.\n",
        "\n",
        "KONU: Bicep Curl\n",
        "Yapılışı:\n",
        "1. Ayakta dik durun, dambılları avuç içleri yukarı bakacak şekilde tutun.\n",
        "2. Dirseklerinizi vücudunuza yakın tutarak dambılları omuz hizasına kadar kaldırın. Sadece ön kol kaslarını kullanın.\n",
        "3. Ağırlığı yavaşça başlangıç pozisyonuna indirin.\n",
        "Çalışan Kaslar: Biceps.\n",
        "İpucu: Hareketi yavaş ve kontrollü yapın. Dirseklerinizi sabitlemek omuzların devreye girmesini engeller.\n",
        "\n",
        "--- EK BİLGİLER: BESLENME VE PROGRAMLAMA ---\n",
        "\n",
        "KONU: Makro Besinler (Makrolar)\n",
        "Tanım: Vücudun enerji ve temel yapı taşları için en büyük miktarda ihtiyaç duyduğu besin ögeleridir. Üç ana makro besin şunlardır:\n",
        "1. Protein: Kas onarımı ve büyümesi için hayati öneme sahiptir.\n",
        "   - Kalori Değeri: 1 gram = 4 kalori.\n",
        "   - İpuçları: Kas kütlesi kazanmak veya korumak için vücut ağırlığının kilogramı başına 1.6 ila 2.2 gram tüketilmesi önerilir.\n",
        "2. Karbonhidrat: Antrenman sırasında ve günlük yaşamda vücudun ana enerji kaynağıdır.\n",
        "   - Kalori Değeri: 1 gram = 4 kalori.\n",
        "   - İpuçları: Yoğun antrenman yapan sporcular için toplam kalori alımının %45-%65'ini oluşturmalıdır. Tam tahıllar ve sebzeler tercih edilmeli.\n",
        "3. Yağlar (Lipitler): Hormon üretimi, organ koruması ve yağda çözünen vitaminlerin emilimi için gereklidir.\n",
        "   - Kalori Değeri: 1 gram = 9 kalori.\n",
        "   - İpuçları: Diyetin %20-%35'ini oluşturmalı. Sağlıklı yağ kaynakları (avokado, fındık, zeytinyağı) tercih edilmeli.\n",
        "\n",
        "KONU: Supplementler (Takviyeler)\n",
        "En Popüler Takviyeler:\n",
        "1. Kreatin: Kas gücünü ve yüksek yoğunluklu egzersiz performansını artırdığı bilimsel olarak kanıtlanmış en etkili takviyedir.\n",
        "   - Kullanım: Genellikle günlük 3-5 gram önerilir.\n",
        "2. Whey Protein: Hızlı emilen bir protein kaynağıdır, özellikle antrenman sonrası kas onarımı için idealdir.\n",
        "3. BCAA (Dallı Zincirli Amino Asitler): Yoğun antrenman sırasında kas yıkımını önlemeye yardımcı olabilir.\n",
        "   - Not: Yeterli protein alımı varsa, BCAA çoğu zaman gereksizdir.\n",
        "\n",
        "KONU: Antrenman Programı Türleri (Split)\n",
        "1. Full Body (Tüm Vücut): Her seansta tüm ana kas gruplarını çalıştırır.\n",
        "   - Kimler İçin İdeal: Yeni başlayanlar ve haftada 2-3 gün antrenman yapanlar. Kas iyileşmesine yeterli zaman tanır.\n",
        "2. Push/Pull/Legs (PPL): İtme, çekme ve bacak hareketlerini farklı günlerde gruplar.\n",
        "   - Tanım: Push (göğüs, omuz, tricep), Pull (sırt, biceps), Legs (bacaklar).\n",
        "   - Kimler İçin İdeal: Haftada 4-6 gün antrenman yapan, daha ileri düzey sporcular.\n",
        "3. Bro Split (Vücut Bölgesi Split): Her gün sadece bir veya iki kas grubunu çalıştırır (örn: Pazartesi Göğüs, Salı Bacak).\n",
        "   - Kimler İçin İdeal: Geleneksel vücut geliştirme tarzını sevenler; her kas grubunu haftada bir kez çok yüksek hacimle yormak.\n",
        "\"\"\"\n",
        "\n",
        "# Dosyayı \"yazma\" modu ('w') ile açarak eski içeriği siler ve yenisini yazar.\n",
        "try:\n",
        "    with open('egzersiz_veri.txt', 'w', encoding='utf-8') as f:\n",
        "        f.write(tum_veri_seti)\n",
        "    print(\"✅ TÜM VERİ SETİ BAŞARIYLA YENİDEN OLUŞTURULDU.\")\n",
        "\n",
        "except Exception as e:\n",
        "    print(f\"KRİTİK HATA: Dosya yazma işlemi sırasında bir sorun oluştu: {e}\")"
      ],
      "metadata": {
        "colab": {
          "base_uri": "https://localhost:8080/"
        },
        "id": "2tMiH6Ywp6ho",
        "outputId": "29a97c45-1a4f-41e7-c4a5-eecbcd5fc08b"
      },
      "execution_count": 4,
      "outputs": [
        {
          "output_type": "stream",
          "name": "stdout",
          "text": [
            "✅ TÜM VERİ SETİ BAŞARIYLA YENİDEN OLUŞTURULDU.\n"
          ]
        }
      ]
    },
    {
      "cell_type": "code",
      "source": [
        "# HÜCRE 4: Veriyi Parçalama\n",
        "from langchain_text_splitters import RecursiveCharacterTextSplitter\n",
        "from langchain_community.document_loaders import TextLoader\n",
        "\n",
        "loader = TextLoader(\"egzersiz_veri.txt\", encoding=\"utf-8\")\n",
        "documents = loader.load()\n",
        "\n",
        "text_splitter = RecursiveCharacterTextSplitter(\n",
        "    chunk_size=400, chunk_overlap=50, length_function=len\n",
        ")\n",
        "chunks = text_splitter.split_documents(documents)\n",
        "\n",
        "print(f\"Oluşturulan Parça Sayısı (Chunks): {len(chunks)}\")\n",
        "print(\"Başarılı: chunks listesi oluşturuldu.\")"
      ],
      "metadata": {
        "colab": {
          "base_uri": "https://localhost:8080/"
        },
        "id": "-LA6k6AxgU3r",
        "outputId": "7e922dd0-ec96-4802-8bc7-8a19f4f7d84f"
      },
      "execution_count": 10,
      "outputs": [
        {
          "output_type": "stream",
          "name": "stdout",
          "text": [
            "Oluşturulan Parça Sayısı (Chunks): 22\n",
            "Başarılı: chunks listesi oluşturuldu.\n"
          ]
        }
      ]
    },
    {
      "cell_type": "code",
      "source": [
        "# HÜCRE 5: Vektörleştirme\n",
        "from langchain_community.vectorstores import Chroma\n",
        "from langchain_community.embeddings import HuggingFaceEmbeddings\n",
        "\n",
        "print(\"--- YEREL EMBEDDING MODELİ KULLANILIYOR ---\")\n",
        "embeddings = HuggingFaceEmbeddings(model_name=\"all-MiniLM-L6-v2\")\n",
        "\n",
        "print(\"\\nVeri parçaları vektörleştiriliyor...\")\n",
        "vectorstore = Chroma.from_documents(\n",
        "    documents=chunks,\n",
        "    embedding=embeddings,\n",
        "    persist_directory=\"./chroma_db\"\n",
        ")\n",
        "\n",
        "print(\"\\nBAŞARILI: Vektörleştirme tamamlandı ve ChromaDB'ye kaydedildi.\")"
      ],
      "metadata": {
        "colab": {
          "base_uri": "https://localhost:8080/"
        },
        "id": "ot6f0RS5gjBF",
        "outputId": "eb8cd4b7-fa69-4ba1-97ec-efc1e1b145a2"
      },
      "execution_count": 11,
      "outputs": [
        {
          "output_type": "stream",
          "name": "stdout",
          "text": [
            "--- YEREL EMBEDDING MODELİ KULLANILIYOR ---\n",
            "\n",
            "Veri parçaları vektörleştiriliyor...\n",
            "\n",
            "BAŞARILI: Vektörleştirme tamamlandı ve ChromaDB'ye kaydedildi.\n"
          ]
        }
      ]
    },
    {
      "cell_type": "code",
      "source": [
        "# HÜCRE 6: RAG Zinciri Kurulumu ve Test (LCEL ZORLAMA)\n",
        "\n",
        "from langchain_google_genai import ChatGoogleGenerativeAI\n",
        "from langchain_core.prompts import ChatPromptTemplate\n",
        "from langchain_core.runnables import RunnablePassthrough, RunnableSequence\n",
        "from langchain_core.output_parsers import StrOutputParser\n",
        "from google.colab import userdata\n",
        "\n",
        "# KRİTİK: create_chain fonksiyonlarını atmak için LCEL yapısını manuel kuruyoruz.\n",
        "# YALNIZCA bu importların çalışması için tasarlanmıştır.\n",
        "\n",
        "# LLM Kurulumu\n",
        "GEMINI_API_KEY = userdata.get('GEMINI_API_KEY')\n",
        "llm = ChatGoogleGenerativeAI(model=\"gemini-2.5-flash\", temperature=0.1, api_key=GEMINI_API_KEY)\n",
        "\n",
        "# Retriever Kurulumu\n",
        "retriever = vectorstore.as_retriever(search_kwargs={\"k\": 3})\n",
        "\n",
        "# Prompt ve Zincir Oluşturma (LCEL)\n",
        "prompt = ChatPromptTemplate.from_template(\"\"\"\n",
        "Aşağıdaki bağlamı kullanarak soruyu cevapla.\n",
        "Cevabını yalnızca sağlanan bağlamdaki bilgilere dayandır.\n",
        "Bağlamda cevap yoksa, \"Bu konuda veri setimde bilgi bulunmamaktadır.\" diye cevap ver.\n",
        "\n",
        "Bağlam: {context}\n",
        "\n",
        "Soru: {input}\n",
        "\"\"\")\n",
        "\n",
        "# 1. Dokümanları birleştiren fonksiyon:\n",
        "def format_docs(docs):\n",
        "    return \"\\n\\n\".join(doc.page_content for doc in docs)\n",
        "\n",
        "# 2. RAG Zincirini Manuel Olarak Kurma (RunnableSequence ile)\n",
        "# Bu zincir:\n",
        "# 1. Girişi alır.\n",
        "# 2. Retriever'a gönderir (documents'ları getirir)\n",
        "# 3. Prompt'u formatlar (context ve input'u doldurur)\n",
        "# 4. LLM'i çağırır (cevap üretir)\n",
        "# 5. Çıktıyı düz metne çevirir.\n",
        "\n",
        "qa_chain = (\n",
        "    {\"context\": retriever | format_docs, \"input\": RunnablePassthrough()}\n",
        "    | prompt\n",
        "    | llm\n",
        "    | StrOutputParser()\n",
        ")\n",
        "\n",
        "\n",
        "# TEST SORGU\n",
        "sorgu = \"Deadlift egzersizini yaparken en çok hangi kas grupları çalışır ve bana en önemli ipucunu ver.\"\n",
        "print(f\"Sorgu: {sorgu}\\n\")\n",
        "\n",
        "print(\"Gemini API'den RAG tabanlı cevap bekleniyor...\")\n",
        "# Artık qa_chain.invoke'a sadece input gönderilir.\n",
        "cevap = qa_chain.invoke(sorgu)\n",
        "\n",
        "print(\"-\" * 50)\n",
        "print(\"CEVAP:\")\n",
        "print(cevap) # Cevap artık doğrudan string olarak geliyor\n",
        "print(\"-\" * 50)"
      ],
      "metadata": {
        "colab": {
          "base_uri": "https://localhost:8080/"
        },
        "id": "bh6sItEUjqa6",
        "outputId": "b49e2666-2d2b-43ba-fbe7-f629dada826a"
      },
      "execution_count": 12,
      "outputs": [
        {
          "output_type": "stream",
          "name": "stdout",
          "text": [
            "Sorgu: Deadlift egzersizini yaparken en çok hangi kas grupları çalışır ve bana en önemli ipucunu ver.\n",
            "\n",
            "Gemini API'den RAG tabanlı cevap bekleniyor...\n",
            "--------------------------------------------------\n",
            "CEVAP:\n",
            "Deadlift egzersizini yaparken en çok çalışan kas grupları Arka zincir (Hamstring, Kalça, Alt Sırt), Trapez ve Ön Kol'dur.\n",
            "\n",
            "Bu konuda veri setimde Deadlift egzersizi için özel bir ipucu bulunmamaktadır.\n",
            "--------------------------------------------------\n"
          ]
        }
      ]
    },
    {
      "cell_type": "markdown",
      "source": [
        "Bundan sonra Web Arayüzü için çalışacağım (b"
      ],
      "metadata": {
        "id": "rNfmyaFYkzfG"
      }
    },
    {
      "cell_type": "code",
      "source": [
        "# YENİ HÜCRE: Gradio Kurulumu\n",
        "!pip install gradio -q\n",
        "print(\"Gradio kütüphanesi kuruldu.\")\n",
        "\n",
        "# Modül hatalarını aşan son HÜCRE 6 yapısını yeniden kuralım.\n",
        "# (Tekrar tekrar çalıştırmamak için tüm gerekli objelerin tanımlı olduğunu varsayıyoruz.)\n",
        "\n",
        "from langchain_google_genai import ChatGoogleGenerativeAI\n",
        "from langchain_core.prompts import ChatPromptTemplate\n",
        "from langchain_core.runnables import RunnablePassthrough, RunnableSequence\n",
        "from langchain_core.output_parsers import StrOutputParser\n",
        "from google.colab import userdata\n",
        "from langchain_core.messages import HumanMessage, AIMessage\n",
        "\n",
        "# Gerekli objelerin tanımlı olduğundan emin olmak için LLM ve Retriever'ı tekrar tanımlıyoruz.\n",
        "# (HÜCRE 1'den HÜCRE 5'e kadar her şeyin çalışmış olması gerekir.)\n",
        "GEMINI_API_KEY = userdata.get('GEMINI_API_KEY')\n",
        "llm = ChatGoogleGenerativeAI(model=\"gemini-2.5-flash\", temperature=0.1, api_key=GEMINI_API_KEY)\n",
        "# vectorstore objesinin HÜCRE 5'ten geldiğini varsayıyoruz.\n",
        "retriever = vectorstore.as_retriever(search_kwargs={\"k\": 3})\n",
        "\n",
        "# format_docs fonksiyonunu tanımla (LCEL için gerekli)\n",
        "def format_docs(docs):\n",
        "    return \"\\n\\n\".join(doc.page_content for doc in docs)\n",
        "\n",
        "# Prompt'u tanımla\n",
        "rag_prompt = ChatPromptTemplate.from_template(\"\"\"\n",
        "Aşağıdaki bağlamı kullanarak soruyu cevapla.\n",
        "Cevabını yalnızca sağlanan bağlamdaki bilgilere dayandır.\n",
        "Bağlamda cevap yoksa, \"Bu konuda veri setimde bilgi bulunmamaktadır.\" diye cevap ver.\n",
        "\n",
        "Bağlam: {context}\n",
        "\n",
        "Soru: {input}\n",
        "\"\"\")\n",
        "\n",
        "# RAG Zincirini Kurma (HÜCRE 6'daki en son başarılı LCEL yapısı)\n",
        "qa_chain = (\n",
        "    {\"context\": retriever | format_docs, \"input\": RunnablePassthrough()}\n",
        "    | rag_prompt\n",
        "    | llm\n",
        "    | StrOutputParser()\n",
        ")"
      ],
      "metadata": {
        "colab": {
          "base_uri": "https://localhost:8080/"
        },
        "id": "srT4-TA6k-uV",
        "outputId": "3b19ccb9-6b3a-4ce1-c4b3-6a0def8482ed"
      },
      "execution_count": 13,
      "outputs": [
        {
          "output_type": "stream",
          "name": "stdout",
          "text": [
            "Gradio kütüphanesi kuruldu.\n"
          ]
        }
      ]
    },
    {
      "cell_type": "code",
      "source": [
        "# YENİ HÜCRE: Gradio Arayüz Kodu ve Fonksiyon Tanımı\n",
        "\n",
        "import gradio as gr\n",
        "\n",
        "# Bu fonksiyon, Gradio'dan gelen mesajı alır ve RAG zincirine gönderir.\n",
        "# Şu anki RAG zincirimiz tek dönüşlü (hafızasız) olduğu için, chat_history'yi sadece gösterimde kullanacağız.\n",
        "def rag_chat_interface(message, history):\n",
        "    # History (geçmiş) Gradio'dan gelir, ancak RAG zincirimiz sadece son soruyu (message) kullanır.\n",
        "\n",
        "    # RAG Zincirine gönderme\n",
        "    # qa_chain objesi, LCEL yapısı gereği tek bir dictionary {\"input\": soru} bekler.\n",
        "    response = qa_chain.invoke(message)\n",
        "\n",
        "    # Gradio'ya cevabı döndürme\n",
        "    return response\n",
        "\n",
        "# Gradio Arayüz Tanımı\n",
        "gr.ChatInterface(\n",
        "    fn=rag_chat_interface,\n",
        "    title=\"Fitness Bilgi Asistanı (RAG-Gemini)\",\n",
        "    theme=\"soft\",\n",
        "    description=\"Fitness veri setinizi (Deadlift, Squat vb.) kullanarak sorularınızı cevaplayan yapay zeka.\",\n",
        "    examples=[\n",
        "        \"Squat yaparken en önemli ipucu nedir?\",\n",
        "        \"Barbell Row egzersizinin temel kas grupları nelerdir?\",\n",
        "        \"Deadlift yaparken sırtımı nasıl korurum?\",\n",
        "    ]\n",
        ").queue().launch(share=True)"
      ],
      "metadata": {
        "colab": {
          "base_uri": "https://localhost:8080/",
          "height": 653
        },
        "id": "PDUkifNzlQFY",
        "outputId": "d8c9bfa2-4ac2-4fd2-9c66-9f3db0b00f0b"
      },
      "execution_count": 14,
      "outputs": [
        {
          "output_type": "stream",
          "name": "stderr",
          "text": [
            "/usr/local/lib/python3.12/dist-packages/gradio/chat_interface.py:347: UserWarning: The 'tuples' format for chatbot messages is deprecated and will be removed in a future version of Gradio. Please set type='messages' instead, which uses openai-style 'role' and 'content' keys.\n",
            "  self.chatbot = Chatbot(\n"
          ]
        },
        {
          "output_type": "stream",
          "name": "stdout",
          "text": [
            "Colab notebook detected. To show errors in colab notebook, set debug=True in launch()\n",
            "* Running on public URL: https://34a77e75c55bcd5454.gradio.live\n",
            "\n",
            "This share link expires in 1 week. For free permanent hosting and GPU upgrades, run `gradio deploy` from the terminal in the working directory to deploy to Hugging Face Spaces (https://huggingface.co/spaces)\n"
          ]
        },
        {
          "output_type": "display_data",
          "data": {
            "text/plain": [
              "<IPython.core.display.HTML object>"
            ],
            "text/html": [
              "<div><iframe src=\"https://34a77e75c55bcd5454.gradio.live\" width=\"100%\" height=\"500\" allow=\"autoplay; camera; microphone; clipboard-read; clipboard-write;\" frameborder=\"0\" allowfullscreen></iframe></div>"
            ]
          },
          "metadata": {}
        },
        {
          "output_type": "execute_result",
          "data": {
            "text/plain": []
          },
          "metadata": {},
          "execution_count": 14
        }
      ]
    },
    {
      "cell_type": "markdown",
      "source": [
        "Buradan sonraki hücre readme oluşturmak içindir."
      ],
      "metadata": {
        "id": "1cIur0_YkRJd"
      }
    },
    {
      "cell_type": "code",
      "source": [
        "# YENİ HÜCRE: README.md Dosyasını Kullanıcının İsteğine Göre Güncelleme\n",
        "\n",
        "readme_content_kullanici = \"\"\"\n",
        "# Fitness Bilgi Asistanı (RAG - Gemini Destekli)\n",
        "\n",
        "Bu proje, **Retrieval Augmented Generation (RAG)** mimarisi ile\n",
        "geliştirilmiş küçük çaplı bir fitness chatbotudur.\n",
        "\n",
        "## Projenin Amacı\n",
        "\n",
        "Projenin amacı, veri setinde yer alan bilgilere\n",
        "göre bazı egzersizler (örnek: deadlift, squat, bench press vb.) ve beslenme hakkında\n",
        "sorulan soruları doğru ve güvenilir bir şekilde cevaplamaktır.\n",
        "\n",
        "## Özellikler\n",
        "\n",
        "* **Veri Kapsamı:** Beslenme ve temel egzersizler hakkında detaylı veri.\n",
        "* **Yapay Zeka Modeli:** Google **Gemini API** kullanılır.\n",
        "* **Mimari:** **LangChain LCEL** (Expression Language) ile oluşturulmuş RAG zinciri.\n",
        "* **Veri Yönetimi:** **Vektörleştirme** ile veriye hızlı erişim.\n",
        "\n",
        "## Çalıştırmak İçin\n",
        "\n",
        "1.  **Colab not defterindeki hücreleri sırayla tek tek çalıştırın.**\n",
        "2.  **API Anahtarı Kontrolü:** Eğer API anahtarı çalışmazsa, soldaki kilit simgesine tıklayın ve API anahtarınızın doğru tanımlandığından emin olun.\n",
        "3.  **Arayüze Geçiş:** Tüm hücreler çalıştırılınca (son aşamada) Gradio arayüzü otomatik olarak açılacaktır.\n",
        "4.  **Sorgulama:** İsterseniz verilen 3 örnek sorgudan birini veya veri setinin içinde yer alacak şekilde istediğiniz soruyu sorabilirsiniz.\n",
        "\n",
        "## Çözüm Mimarisi\n",
        "**Çözülen Problem: LLM Halüsinasyonu**\n",
        "\n",
        "**Projemiz, LLM'e cevap vermeden önce güvenilir bir kaynaktan (kendi veri setimizden) ilgili bilgiyi bulmasını zorunlu kılarak bu problemi ortadan kaldırır.**\n",
        "\n",
        "**https://github.com/NisanIrmakMarangoz**\n",
        "\n",
        "\"\"\"\n",
        "\n",
        "try:\n",
        "    with open('README.md', 'w', encoding='utf-8') as f:\n",
        "        f.write(readme_content_kullanici)\n",
        "    print(\"✅ 'README.md' dosyası başarıyla sizin isteğiniz doğrultusunda güncellendi.\")\n",
        "    print(\"Colab'ın solundaki 'Dosyalar' menüsünden kontrol edebilirsiniz.\")\n",
        "\n",
        "except Exception as e:\n",
        "    print(f\"HATA: README dosyası güncellenemedi: {e}\")"
      ],
      "metadata": {
        "colab": {
          "base_uri": "https://localhost:8080/"
        },
        "id": "bpp5VK-mkPOJ",
        "outputId": "163ebcc2-02be-4ba9-f043-6faeeeb5bf87"
      },
      "execution_count": null,
      "outputs": [
        {
          "output_type": "stream",
          "name": "stdout",
          "text": [
            "✅ 'README.md' dosyası başarıyla sizin isteğiniz doğrultusunda güncellendi.\n",
            "Colab'ın solundaki 'Dosyalar' menüsünden kontrol edebilirsiniz.\n"
          ]
        }
      ]
    },
    {
      "cell_type": "markdown",
      "source": [
        "bundan sonraki hücre, kılavuz içindir.\n"
      ],
      "metadata": {
        "id": "qVSj29OQtC6s"
      }
    },
    {
      "cell_type": "code",
      "source": [
        "# YENİ HÜCRE: PROJECT_REPORT.md Dosyasını Görsel Referansları ile Yeniden Oluşturma\n",
        "\n",
        "project_report_content_with_images = \"\"\"\n",
        "# 🚀 FITNESS BİLGİ ASİSTANI - PROJE RAPORU VE ÇALIŞMA KILAVUZU\n",
        "\n",
        "Bu rapor, projenin teknik mimarisini, kullanılan teknolojileri ve canlı web arayüzünün nasıl kullanılacağını detaylandırmaktadır.\n",
        "\n",
        "---\n",
        "\n",
        "## 📐 BÖLÜM A: ÇÖZÜM MİMARİSİ (RAG)\n",
        "\n",
        "### A.1 Mimarinin Çözdüğü Temel Problem\n",
        "**Problem:** Büyük Dil Modellerinin (LLM) uydurma (halüsinasyon) eğilimi ve özel/niş konularda bilgi yetersizliği.\n",
        "**RAG Çözümü:** LLM (Gemini 2.5 Flash), cevap vermeden önce **güvenilir, özel veri setimizden** ilgili bilgiyi (Bağlamı) bulmaya zorlanır. Bu, doğruluk oranını artırır ve güncel kalmayı sağlar.\n",
        "\n",
        "### A.2 Kullanılan Teknolojiler\n",
        "| Kategori | Teknoloji | Rolü |\n",
        "| :--- | :--- | :--- |\n",
        "| **Büyük Dil Modeli (LLM)** | **Google Gemini 2.5 Flash** | Nihai cevabı, sağlanan bağlama göre üretir. |\n",
        "| **Orkestrasyon** | **LangChain (LCEL)** | RAG zincirinin adımlarını (Prompt, LLM, Retriever) yöneten çerçevedir. |\n",
        "| **Vektör DB** | **ChromaDB** | Veri parçalarının vektör formunda tutulduğu yerel veritabanı. |\n",
        "| **Vektörleştirme** | **Sentence-Transformers** | Metinleri arama yapılabilir sayı dizilerine (Vektörlere) çevirir. |\n",
        "| **Web Arayüzü** | **Gradio** | Son kullanıcının erişebileceği sohbet arayüzünü sağlar. |\n",
        "\n",
        "### A.3 RAG Akış Şeması\n",
        "Proje, her sorguda şu akışı izler:\n",
        "Soru $\\rightarrow$ ChromaDB (Arama) $\\rightarrow$ İlgili Veri Parçaları $\\rightarrow$ Prompt Şablonu $\\rightarrow$ Gemini $\\rightarrow$ Nihai Cevap\n",
        "\n",
        "---\n",
        "\n",
        "## 🌐 BÖLÜM B: WEB ARAYÜZÜ & PRODUCT KILAVUZU (Test ve Kabiliyetler)\n",
        "\n",
        "Bu bölüm, canlı uygulamanın nasıl kullanılacağını, hangi kabiliyetlere sahip olduğunu ve test senaryolarını içerir.\n",
        "\n",
        "### B.1 Uygulama Linki (Deploy Link)\n",
        "Canlı uygulamaya erişim linki aşağıdadır. https://b88169486e8cfc1bb8.gradio.live\n",
        "\n",
        "\n",
        "### B.2 Kullanıcı Akışı ve Çalışma Prensibi\n",
        "\n",
        "Kullanıcı, Gradio arayüzünde sadece soru yazar. Arka planda sistem, sorulan konuya **yalnızca kendi bilgi havuzunda** arama yaparak cevap bulur.\n",
        "\n",
        "**Arayüz Görünümü (Boş Başlangıç):**\n",
        "*https://github.com/NisanIrmakMarangoz/images-/blob/main/Bosarayuz.png*\n",
        "\n",
        "**Çalışma Akışı Özeti:**\n",
        "1.  **Girdi:** Kullanıcı Fitness, Beslenme veya Programlama sorusu sorar.\n",
        "2.  **Arama:** RAG sistemi, özel veri setimizde en uygun bilgiyi (Bağlamı) bulur.\n",
        "3.  **Cevap Üretme:** Gemini, bu bağlamı kullanarak, dışarıdan bilgi eklemeden cevabı üretir.\n",
        "4.  **Hata Yönetimi:** Bilgi seti dışında kalan sorularda, sistem **\"Bu konuda veri setimde bilgi bulunmamaktadır.\"** uyarısıyla güvenilirliğini korur.\n",
        "\n",
        "### B.3 Projenin Temel Kabiliyetleri ve Test Senaryoları\n",
        "\n",
        "Projenin başarıyla çalıştığını göstermek için aşağıdaki testleri arayüzde uygulayın:\n",
        "\n",
        "| Kabiliyet Alanı | Test Sorusu | Amacı (Kanıtı) |\n",
        "| :--- | :--- | :--- |\n",
        "| **Egzersiz Uzmanlığı** | \"Bench Press'te hangi kaslar çalışır?\" | Temel veri setindeki spesifik bilgiyi doğru getirdiğini kanıtlar. |\n",
        "| **Genişletilmiş Bilgi (Beslenme)** | \"Kreatin takviyesinin faydaları ve günlük dozu nedir?\" | Sonradan eklenen ve vektörleştirilen yeni bilgiyi kullanabildiğini test eder. |\n",
        "| **Programlama Kapsamı** | \"Push/Pull/Legs sistemi kimler için uygundur?\" | Antrenman programlama bilgisini sunabildiğini gösterir. |\n",
        "\n",
        "**Örnek Başarılı Cevap:**\n",
        "*https://github.com/NisanIrmakMarangoz/images-/blob/main/basarilicevap1.png*\n",
        "*https://github.com/NisanIrmakMarangoz/images-/blob/main/basarilicevap2.png*\n",
        "\n",
        "**Halüsinasyon Önleme (Hata Yönetimi):**\n",
        "| Kabiliyet Alanı | Test Sorusu | Amacı (Kanıtı) |\n",
        "| :--- | :--- | :--- |\n",
        "| **Halüsinasyon Önleme** | \"En popüler 5 yoga pozu nedir?\" | Sistemin bilmediği bir alanda **uydurmadığını** göstererek RAG'ın ana faydasını kanıtlar. |\n",
        "\n",
        "**Örnek Hata Yönetimi:**\n",
        "*https://github.com/NisanIrmakMarangoz/images-/blob/main/hatamesaji.png*\n",
        "\n",
        "\n",
        "\"\"\"\n",
        "\n",
        "# Dosyayı \"yazma\" modu ('w') ile oluşturur ve içeriği yazar.\n",
        "try:\n",
        "    with open('PROJECT_REPORT.md', 'w', encoding='utf-8') as f:\n",
        "        f.write(project_report_content_with_images)\n",
        "    print(\"✅ 'PROJECT_REPORT.md' dosyası, tüm mimari, test kılavuzu ve görsel referansları ile başarıyla güncellendi.\")\n",
        "    print(\"GitHub'a yüklemeden önce lütfen görsel yollarını kontrol edin!\")\n",
        "\n",
        "except Exception as e:\n",
        "    print(f\"HATA: Proje raporu dosyası oluşturulamadı: {e}\")"
      ],
      "metadata": {
        "colab": {
          "base_uri": "https://localhost:8080/"
        },
        "id": "RiFUCWFPtGd9",
        "outputId": "8bab0067-b72c-4dae-8c4b-67840054d0a3"
      },
      "execution_count": null,
      "outputs": [
        {
          "output_type": "stream",
          "name": "stdout",
          "text": [
            "✅ 'PROJECT_REPORT.md' dosyası, tüm mimari, test kılavuzu ve görsel referansları ile başarıyla güncellendi.\n",
            "GitHub'a yüklemeden önce lütfen görsel yollarını kontrol edin!\n"
          ]
        }
      ]
    }
  ]
}